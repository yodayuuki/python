{
 "cells": [
  {
   "cell_type": "markdown",
   "metadata": {},
   "source": [
    "w = wordclound.WordCloud()\n",
    "方法\n",
    "w.generate(txt)  #向WordCloud对象w中加载文本txt，\n",
    "w.generate(\"python and worldcloud\")\n",
    "将词云输出为图像文件，png或者jpg格式\n",
    "w.to_file(filename)"
   ]
  },
  {
   "cell_type": "code",
   "execution_count": 3,
   "metadata": {},
   "outputs": [
    {
     "data": {
      "text/plain": [
       "<wordcloud.wordcloud.WordCloud at 0x21b2e85df60>"
      ]
     },
     "execution_count": 3,
     "metadata": {},
     "output_type": "execute_result"
    }
   ],
   "source": [
    "import wordcloud\n",
    "c = wordcloud.WordCloud() #生成一个词云对象\n",
    "c.generate(\"wordcloud by Python\")\n",
    "c.to_file(\"simple.png\")"
   ]
  },
  {
   "cell_type": "code",
   "execution_count": 4,
   "metadata": {},
   "outputs": [],
   "source": [
    "import jieba\n",
    "import wordcloud"
   ]
  },
  {
   "cell_type": "code",
   "execution_count": 7,
   "metadata": {},
   "outputs": [
    {
     "data": {
      "text/plain": [
       "<wordcloud.wordcloud.WordCloud at 0x21b3085e860>"
      ]
     },
     "execution_count": 7,
     "metadata": {},
     "output_type": "execute_result"
    }
   ],
   "source": [
    "txt = \"./2019工作报告\"\n",
    "w = wordcloud.WordCloud(width=1000,font_path=\"msyh.ttc\",height=700)\n",
    "w.generate(\" \".join(jieba.lcut(txt)))\n",
    "w.to_file(\"pycloud.png\")"
   ]
  },
  {
   "cell_type": "code",
   "execution_count": 37,
   "metadata": {},
   "outputs": [
    {
     "data": {
      "text/plain": [
       "<wordcloud.wordcloud.WordCloud at 0x21b34824f98>"
      ]
     },
     "execution_count": 37,
     "metadata": {},
     "output_type": "execute_result"
    }
   ],
   "source": [
    "import jieba\n",
    "import wordcloud\n",
    "\n",
    "\n",
    "f = open(\"2019工作报告.txt\",\"r\",encoding=\"utf-8\")\n",
    "t = f.read()\n",
    "f.close()\n",
    "ls = jieba.lcut(t)\n",
    "txt = \"\".join(ls)\n",
    "w = wordcloud.WordCloud(width=1000,font_path=\"msyh.ttc\",height=700,background_color=\"white\",max_words=15)\n",
    "w.generate(txt)\n",
    "w.to_file(\"工作报告.png\")"
   ]
  },
  {
   "cell_type": "code",
   "execution_count": 38,
   "metadata": {},
   "outputs": [
    {
     "name": "stderr",
     "output_type": "stream",
     "text": [
      "C:\\Users\\lkj\\Anaconda3\\lib\\site-packages\\ipykernel_launcher.py:4: DeprecationWarning: `imread` is deprecated!\n",
      "`imread` is deprecated in SciPy 1.0.0, and will be removed in 1.2.0.\n",
      "Use ``imageio.imread`` instead.\n",
      "  after removing the cwd from sys.path.\n"
     ]
    },
    {
     "data": {
      "text/plain": [
       "<wordcloud.wordcloud.WordCloud at 0x21b34824cc0>"
      ]
     },
     "execution_count": 38,
     "metadata": {},
     "output_type": "execute_result"
    }
   ],
   "source": [
    "import jieba\n",
    "import wordcloud\n",
    "from scipy.misc import imread\n",
    "mask = imread(\"sample.jpg\")\n",
    "\n",
    "f = open(\"2019工作报告.txt\",\"r\",encoding=\"utf-8\")\n",
    "t = f.read()\n",
    "f.close()\n",
    "ls = jieba.lcut(t)\n",
    "txt = \"\".join(ls)\n",
    "w = wordcloud.WordCloud(width=1000,font_path=\"msyh.ttc\",height=700,background_color=\"white\",max_words=15,mask=mask)\n",
    "w.generate(txt)\n",
    "w.to_file(\"工作报告.png\")"
   ]
  },
  {
   "cell_type": "code",
   "execution_count": null,
   "metadata": {},
   "outputs": [],
   "source": []
  }
 ],
 "metadata": {
  "kernelspec": {
   "display_name": "Python [conda env:root] *",
   "language": "python",
   "name": "conda-root-py"
  },
  "language_info": {
   "codemirror_mode": {
    "name": "ipython",
    "version": 3
   },
   "file_extension": ".py",
   "mimetype": "text/x-python",
   "name": "python",
   "nbconvert_exporter": "python",
   "pygments_lexer": "ipython3",
   "version": "3.7.3"
  }
 },
 "nbformat": 4,
 "nbformat_minor": 2
}
