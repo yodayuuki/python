{
 "cells": [
  {
   "cell_type": "code",
   "execution_count": null,
   "metadata": {},
   "outputs": [],
   "source": [
    "def getNum():      #获取用户不定长度的输入：\n",
    "    nums = []\n",
    "    iNumStr = input(\"请输入数字（回车退出）\")\n",
    "    while iNumStr != \"\":\n",
    "        nums.append(eval(iNumStr))\n",
    "        iMumStr = input(\"请输入数字（回车退出）：\")\n",
    "    return nums\n",
    "        "
   ]
  },
  {
   "cell_type": "code",
   "execution_count": null,
   "metadata": {},
   "outputs": [],
   "source": [
    "def mean(numbers): #平均值\n",
    "    s = 0.0\n",
    "    for num in numbers:\n",
    "        s = s + num\n",
    "    return s / len(number)"
   ]
  },
  {
   "cell_type": "code",
   "execution_count": null,
   "metadata": {},
   "outputs": [],
   "source": [
    "def dev(numbers, mean):  #计算方差\n",
    "    dev= 0.0\n",
    "    for num in numbers:\n",
    "        sdev = sdev +(num - mean)**2\n",
    "    return pow(sdev / (len(numbers)-1), 0.5)\n",
    "    "
   ]
  },
  {
   "cell_type": "code",
   "execution_count": null,
   "metadata": {},
   "outputs": [],
   "source": [
    "#sorted函数可以对列表进行排序\n",
    "#计算中位数\n",
    "def median(numbers):\n",
    "    sorted(numbers)\n",
    "    size = len(numbers)\n",
    "    if size % 2 ==0:\n",
    "        med = (number[size//2-1] + size[size//2])/2\n",
    "    else:\n",
    "        med = number[size/2]\n",
    "    return med"
   ]
  },
  {
   "cell_type": "code",
   "execution_count": null,
   "metadata": {},
   "outputs": [],
   "source": [
    "n = getNum()\n",
    "m = mean(n)\n",
    "print(\"平均值：{},方差：{:.2}\")"
   ]
  }
 ],
 "metadata": {
  "kernelspec": {
   "display_name": "Python [conda env:root] *",
   "language": "python",
   "name": "conda-root-py"
  },
  "language_info": {
   "codemirror_mode": {
    "name": "ipython",
    "version": 3
   },
   "file_extension": ".py",
   "mimetype": "text/x-python",
   "name": "python",
   "nbconvert_exporter": "python",
   "pygments_lexer": "ipython3",
   "version": "3.7.3"
  }
 },
 "nbformat": 4,
 "nbformat_minor": 2
}
