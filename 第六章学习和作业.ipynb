{
 "cells": [
  {
   "cell_type": "code",
   "execution_count": 7,
   "metadata": {},
   "outputs": [
    {
     "data": {
      "text/plain": [
       "dict_values(['北京', '华盛顿', '巴黎'])"
      ]
     },
     "execution_count": 7,
     "metadata": {},
     "output_type": "execute_result"
    }
   ],
   "source": [
    "#字典操作\n",
    "d = {\"中国\":\"北京\",\"美国\":\"华盛顿\",\"法国\":\"巴黎\"}\n",
    "\"中国\" in d\n",
    "d.keys()\n",
    "d.values()"
   ]
  },
  {
   "cell_type": "raw",
   "metadata": {},
   "source": [
    " d.get(k,<default>)键k存在，则返回相应值，不再则返回<default>值\n",
    "d.pop(k,<default>)键k存在，则取出相应值，不再则返回<default>值\n",
    "d.poppitem() 随即从字典d中取出一个键值对，以元组的形式返回。\n",
    "定义空字典d          d = {}\n",
    "向d新增2个键值对元素     d[\"a\"] = 1;d[\"b\"] = 2\n",
    "修改第二个元素          d[\"b\"] = 3\n",
    "判断字符串\"c\" 是否在c中  \"c\" in d\n",
    "计算d的长度    len(d)\n",
    "清空d           d.clear"
   ]
  },
  {
   "cell_type": "markdown",
   "metadata": {},
   "source": [
    "# 模块jieba库的使用\n",
    "中文分词第三方库\n",
    "中文文本需要通过分词获得单个的词语\n",
    "jieba是优秀的中文分词第三方库，需要额外安装\n",
    "利用一个中文词库，确定汉子之间的关联概率。"
   ]
  },
  {
   "cell_type": "markdown",
   "metadata": {},
   "source": [
    "三种模式：\n",
    "精确模式： 把文本精确的切分开，不存在多余的单词\n",
    "全模式： 把文本中所有可能的词语都扫描出来，有多余的\n",
    "搜索引擎模式：在精确模式基础上，对长词再次切分。"
   ]
  },
  {
   "cell_type": "code",
   "execution_count": 21,
   "metadata": {},
   "outputs": [
    {
     "name": "stderr",
     "output_type": "stream",
     "text": [
      "Building prefix dict from the default dictionary ...\n",
      "Dumping model to file cache C:\\Users\\94824\\AppData\\Local\\Temp\\jieba.cache\n",
      "Loading model cost 0.718 seconds.\n",
      "Prefix dict has been built succesfully.\n"
     ]
    },
    {
     "data": {
      "text/plain": [
       "['中国', '是', '一个', '伟大', '的', '国家']"
      ]
     },
     "execution_count": 21,
     "metadata": {},
     "output_type": "execute_result"
    }
   ],
   "source": [
    "import jieba\n",
    "jieba.lcut(\"中国是一个伟大的国家\")#精确模式，返回一个列表类型的分词结果"
   ]
  },
  {
   "cell_type": "code",
   "execution_count": 23,
   "metadata": {},
   "outputs": [
    {
     "data": {
      "text/plain": [
       "['中国', '国是', '一个', '伟大', '的', '国家']"
      ]
     },
     "execution_count": 23,
     "metadata": {},
     "output_type": "execute_result"
    }
   ],
   "source": [
    "jieba.lcut(\"中国是一个伟大的国家\",cut_all=True)#全模式，返回一个列表类型的分词结果，存在多余"
   ]
  },
  {
   "cell_type": "code",
   "execution_count": 25,
   "metadata": {},
   "outputs": [
    {
     "data": {
      "text/plain": [
       "['中国', '人民', '共和', '共和国', '人民共和国', '是', '伟大', '的']"
      ]
     },
     "execution_count": 25,
     "metadata": {},
     "output_type": "execute_result"
    }
   ],
   "source": [
    "jieba.lcut_for_search(\"中国人民共和国是伟大的\")#搜索引擎模式，返回一个列表类型的分词结果，存在多余 "
   ]
  },
  {
   "cell_type": "markdown",
   "metadata": {},
   "source": [
    "jieba.ddd_woed(w)#向分词字典增加新词w"
   ]
  }
 ],
 "metadata": {
  "kernelspec": {
   "display_name": "Python 3",
   "language": "python",
   "name": "python3"
  },
  "language_info": {
   "codemirror_mode": {
    "name": "ipython",
    "version": 3
   },
   "file_extension": ".py",
   "mimetype": "text/x-python",
   "name": "python",
   "nbconvert_exporter": "python",
   "pygments_lexer": "ipython3",
   "version": "3.7.3"
  }
 },
 "nbformat": 4,
 "nbformat_minor": 2
}
