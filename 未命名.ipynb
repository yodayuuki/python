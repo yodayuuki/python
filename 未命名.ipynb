{
 "cells": [
  {
   "cell_type": "markdown",
   "metadata": {},
   "source": [
    "# 二维数据的格式化\n",
    "使用列表类型[[3.1398,3.1349,3.1376],\n",
    "          [3.1413,3.1404,3.1401]]\n",
    "使用两层for循环遍历每个元素\n",
    "外层列表中每个元素可以对应一行，也可以对应一列\n",
    "\n",
    "一维数据：列表和集合类型 \n",
    "       [3.1398,3.1349,3.1376]      数据间有序\n",
    "       {3.1398，3.1349，3.1376}    数据间无序\n",
    "二维数据：列表类型\n",
    "       [[3.1398,3.1349,3.1376],\n",
    "        [3.1413,3.1404,3.1401]]\n"
   ]
  }
 ],
 "metadata": {
  "kernelspec": {
   "display_name": "Python [conda env:root] *",
   "language": "python",
   "name": "conda-root-py"
  },
  "language_info": {
   "codemirror_mode": {
    "name": "ipython",
    "version": 3
   },
   "file_extension": ".py",
   "mimetype": "text/x-python",
   "name": "python",
   "nbconvert_exporter": "python",
   "pygments_lexer": "ipython3",
   "version": "3.7.3"
  }
 },
 "nbformat": 4,
 "nbformat_minor": 2
}
