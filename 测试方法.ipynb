{
 "cells": [
  {
   "cell_type": "markdown",
   "metadata": {},
   "source": [
    "# 1.测试的基础理论的看法\n",
    "2.数据库设计一般什么范式，为何选择第三范式？\n",
    "3.线程/进程区别。\n",
    "4.python用到什么有用的库。\n",
    "5.python如何运行unittest\n",
    "6.自动化测试工具的了解。\n",
    "7.python如何逆序列输出字符串。\n",
    "8.gc机制的了解。\n",
    "9.为何做测试不做开发。\n",
    "10.Tcp在哪一层，与UDP的区别。\n",
    "11.索引种类。\n"
   ]
  }
 ],
 "metadata": {
  "kernelspec": {
   "display_name": "Python [conda env:root] *",
   "language": "python",
   "name": "conda-root-py"
  },
  "language_info": {
   "codemirror_mode": {
    "name": "ipython",
    "version": 3
   },
   "file_extension": ".py",
   "mimetype": "text/x-python",
   "name": "python",
   "nbconvert_exporter": "python",
   "pygments_lexer": "ipython3",
   "version": "3.7.3"
  }
 },
 "nbformat": 4,
 "nbformat_minor": 2
}
