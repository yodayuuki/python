{
 "cells": [
  {
   "cell_type": "markdown",
   "metadata": {
    "collapsed": true
   },
   "source": [
    "# 文件是数据的抽象和集合\n",
    "文件展现的形态： 文本文件和二进制文件\n",
    "文件是数据存储的一种形势"
   ]
  },
  {
   "cell_type": "markdown",
   "metadata": {},
   "source": [
    "# 文本文件\n",
    "由单一特定的编码组成的文件。如UTF8-8编码\n",
    "由于存在编码，也被看成是存储着的长字符串\n",
    "适用于例如：。txt文件.py文件"
   ]
  },
  {
   "cell_type": "markdown",
   "metadata": {},
   "source": [
    "# 二进制文件\n",
    "直接由比特0和1组成，没有统一字符编码\n",
    "一般存在二进制0和1的组织结构，即文件格式\n",
    "适用于例如：。png文件，.avi文件"
   ]
  },
  {
   "cell_type": "raw",
   "metadata": {},
   "source": [
    "# a.read(size)\n",
    "a.readline(size)\n",
    "a.readlines(hint)\n",
    "########\n",
    "a.write(s)\n",
    "a.writelines(lines)\n",
    "a.seek(offset)"
   ]
  },
  {
   "cell_type": "raw",
   "metadata": {},
   "source": [
    "<变量名> = open（<文件名>， <打开模式>）\n",
    "文件名-----文件路径和名称，源文件同目录科节省路径。    \n",
    "打开模式----文本or二进制 读还是写\n",
    "windows路径： C:\\Users\\lkj\\1.txt    绝对路径： ： ./lkj/1.txt 在当前目录\n",
    "python 文件内部： ： C:/Users/lkj/1.txt 或者： C:\\\\Users\\\\lkj\\\\1.txt\n",
    "'r' 只读模式，默认值，如果文件不存在，返回FileNotFoundError \n",
    "'w' 覆盖写模式，文件不存在则创建文件，存在则完全覆盖\n",
    "'x' 创建写模式，文件不存在则创建，存在则返回FileExistsError\n",
    "'a' 追加写模式，文件不存在则创建，存在则在文件最后追加内容\n",
    "'b' 二进制文件模式\n",
    "‘t’文本文件模式，默认值\n",
    "‘+’与r/w/x/a一同使用，在原功能的基础上增加同时读写功能"
   ]
  },
  {
   "cell_type": "code",
   "execution_count": null,
   "metadata": {},
   "outputs": [],
   "source": [
    "f = opne(\"f.txt\") ----文本形式，只读模式\n",
    "f = open(\"f.txt\",\"rt\")-----文本模式，只读模式，同默认值\n",
    "f = open(\"f.txt\",\"w\")-----文本形式，覆盖写模式\n",
    "f = open(\"f.txt\",\"a+\")-----文本形式，追加写模式+读文件\n",
    "f = open(\"f.txt\",\"x\")-----文本形式，创建写模式\n",
    "f = open(\"f.txt\",\"b\")-----二进制形式，只读模式\n",
    "f = open(\"f.txt\",\"wb\")-----二进制形式，覆盖写模式\n",
    "#文件关闭\n",
    "<变量名>.close()"
   ]
  },
  {
   "cell_type": "code",
   "execution_count": null,
   "metadata": {},
   "outputs": [],
   "source": [
    "<f>.read(size=-1) \n",
    "#读入全部内容，如果给出参数，读入前seze长度例如size换成2 读出前两个字节\n",
    "<f>.readline(size=-1)\n",
    "#读入一行内容，如果给出参数，读入该行前size长度，例如s = f.readline()读入第一行信息\n",
    "<f>.readlines(hint=-1)读入文件所有行，以每行元素为列表如果给出参数，读入前hint行\n"
   ]
  },
  {
   "cell_type": "code",
   "execution_count": null,
   "metadata": {},
   "outputs": [],
   "source": [
    "#遍历全文本方法\n",
    "fname = input(\"请输入要打开的文件名称：\")\n",
    "fo open(fname,\"r\")\n",
    "txt = fo.read(2)\n",
    "while txt != \"\":\n",
    "    #对txt惊醒处理\n",
    "    txt = fo.read(2)\n",
    "fo.close()\n"
   ]
  },
  {
   "cell_type": "code",
   "execution_count": null,
   "metadata": {},
   "outputs": [],
   "source": [
    "#遍历文件的方法：\n",
    "fname = input(\"请输入要打开的文件名称：\")\n",
    "fo = open(fname,\"r\")\n",
    "for line in fo.readlines():\n",
    "    print(line)\n",
    "fo.close()\n",
    "#方法2：\n",
    "fname = input(\"请输入要打开的文件名称：\")\n",
    "fo = open(fname, \"r\")\n",
    "for line in fo:\n",
    "    print(line)\n",
    "fo.close()"
   ]
  },
  {
   "cell_type": "markdown",
   "metadata": {},
   "source": [
    "# 数据的文件写入\n",
    "<f>.write(s)-----------向文件写入一个字符串或字节流例如 f.write(\"中国是一个伟大的国家！\")\n",
    "<f>.writelines(lines)---- 将一个元素全为字符串的列表写入文件例如： ls = [\"中国\",\"美国\"]\n",
    "                                             f.writelines(ls)#输出 中国美国\n",
    "<f>.seek(offset)-------改变当前文件操作指针的位置，offset含义如下:0-文件开头 1-当前位置 2-文件结果\n",
    "                                  f.seek(0)#回到文件开头文件"
   ]
  },
  {
   "cell_type": "code",
   "execution_count": null,
   "metadata": {},
   "outputs": [],
   "source": [
    "fo = open(\"output.txt\",\"w+\")\n",
    "ls = [\"中国\", \"法国\", \"美国\"]\n",
    "fo.writelines(ls)\n",
    "fo.seek(0)\n",
    "for line in fo:\n",
    "    print(line)\n",
    "fo.close()\n",
    "\n",
    "          "
   ]
  }
 ],
 "metadata": {
  "kernelspec": {
   "display_name": "Python 3",
   "language": "python",
   "name": "python3"
  },
  "language_info": {
   "codemirror_mode": {
    "name": "ipython",
    "version": 3
   },
   "file_extension": ".py",
   "mimetype": "text/x-python",
   "name": "python",
   "nbconvert_exporter": "python",
   "pygments_lexer": "ipython3",
   "version": "3.7.3"
  }
 },
 "nbformat": 4,
 "nbformat_minor": 1
}
